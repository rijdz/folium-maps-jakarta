{
 "cells": [
  {
   "cell_type": "markdown",
   "metadata": {},
   "source": [
    "## Objective\n",
    "\n",
    "export csv of indonesian_state in polygon format"
   ]
  },
  {
   "cell_type": "markdown",
   "metadata": {},
   "source": [
    "### Flow\n",
    "\n",
    "1. search region https://nominatim.openstreetmap.org\n",
    "2. on details copy the OSM ID (e.g 5802438)\n",
    "3. paste the OSM ID into http://polygons.openstreetmap.fr/get_poly.py?id=5802438&params=0"
   ]
  },
  {
   "cell_type": "markdown",
   "metadata": {},
   "source": [
    "### Output Format\n",
    "\n",
    "``` json\n",
    "{\"type\":\"Feature\",\"id\":\"JS\",\"properties\":{\"name\":\"Jakarta Selatan\"},\"geometry\":{\"type\":\"Polygon\",\"coordinates\":[[[-101.90605,40.001626],[-95.306337,40.001626],[-95.207752,39.908518],[-94.884612,39.831841],[-95.109167,39.541563],[-94.983197,39.442978],[-94.824366,39.20747],[-94.610765,39.158177],[-94.616242,37.000263],[-100.087706,37.000263],[-102.042974,36.994786],[-102.053927,40.001626],[-101.90605,40.001626]]]}},\n",
    "...\n",
    "```"
   ]
  },
  {
   "cell_type": "code",
   "execution_count": 1,
   "metadata": {},
   "outputs": [],
   "source": [
    "import pandas as pd\n",
    "import numpy as np\n",
    "from bs4 import BeautifulSoup\n",
    "import urllib.request\n",
    "import json\n"
   ]
  },
  {
   "cell_type": "code",
   "execution_count": 2,
   "metadata": {},
   "outputs": [
    {
     "data": {
      "text/html": [
       "<div>\n",
       "<style scoped>\n",
       "    .dataframe tbody tr th:only-of-type {\n",
       "        vertical-align: middle;\n",
       "    }\n",
       "\n",
       "    .dataframe tbody tr th {\n",
       "        vertical-align: top;\n",
       "    }\n",
       "\n",
       "    .dataframe thead th {\n",
       "        text-align: right;\n",
       "    }\n",
       "</style>\n",
       "<table border=\"1\" class=\"dataframe\">\n",
       "  <thead>\n",
       "    <tr style=\"text-align: right;\">\n",
       "      <th></th>\n",
       "      <th>0</th>\n",
       "      <th>1</th>\n",
       "    </tr>\n",
       "  </thead>\n",
       "  <tbody>\n",
       "    <tr>\n",
       "      <th>29</th>\n",
       "      <td>76</td>\n",
       "      <td>SULAWESI BARAT</td>\n",
       "    </tr>\n",
       "    <tr>\n",
       "      <th>30</th>\n",
       "      <td>81</td>\n",
       "      <td>MALUKU</td>\n",
       "    </tr>\n",
       "    <tr>\n",
       "      <th>31</th>\n",
       "      <td>82</td>\n",
       "      <td>MALUKU UTARA</td>\n",
       "    </tr>\n",
       "    <tr>\n",
       "      <th>32</th>\n",
       "      <td>91</td>\n",
       "      <td>PAPUA BARAT</td>\n",
       "    </tr>\n",
       "    <tr>\n",
       "      <th>33</th>\n",
       "      <td>94</td>\n",
       "      <td>PAPUA</td>\n",
       "    </tr>\n",
       "  </tbody>\n",
       "</table>\n",
       "</div>"
      ],
      "text/plain": [
       "     0               1\n",
       "29  76  SULAWESI BARAT\n",
       "30  81          MALUKU\n",
       "31  82    MALUKU UTARA\n",
       "32  91     PAPUA BARAT\n",
       "33  94           PAPUA"
      ]
     },
     "execution_count": 2,
     "metadata": {},
     "output_type": "execute_result"
    }
   ],
   "source": [
    "# provinces in indonesia\n",
    "provinces = pd.read_csv('ID_provinces.csv', sep=',',header=None)\n",
    "provinces.tail(5)"
   ]
  },
  {
   "cell_type": "code",
   "execution_count": 3,
   "metadata": {},
   "outputs": [
    {
     "data": {
      "text/plain": [
       "514"
      ]
     },
     "execution_count": 3,
     "metadata": {},
     "output_type": "execute_result"
    }
   ],
   "source": [
    "# get regencies in indonesia\n",
    "regencies = pd.read_csv('ID_regencies.csv', sep=';', header=None, encoding=\"utf-8\")\n",
    "# regencies.tail(50)\n",
    "regencies.shape[0]\n",
    "\n",
    "# get column\n",
    "# list(regencies)"
   ]
  },
  {
   "cell_type": "code",
   "execution_count": 4,
   "metadata": {
    "scrolled": true
   },
   "outputs": [
    {
     "name": "stderr",
     "output_type": "stream",
     "text": [
      "/Users/rijdz/anaconda3/lib/python3.6/site-packages/ipykernel_launcher.py:5: SettingWithCopyWarning: \n",
      "A value is trying to be set on a copy of a slice from a DataFrame.\n",
      "Try using .loc[row_indexer,col_indexer] = value instead\n",
      "\n",
      "See the caveats in the documentation: http://pandas.pydata.org/pandas-docs/stable/indexing.html#indexing-view-versus-copy\n",
      "  \"\"\"\n",
      "/Users/rijdz/anaconda3/lib/python3.6/site-packages/ipykernel_launcher.py:6: UserWarning: Boolean Series key will be reindexed to match DataFrame index.\n",
      "  \n"
     ]
    },
    {
     "data": {
      "text/html": [
       "<div>\n",
       "<style scoped>\n",
       "    .dataframe tbody tr th:only-of-type {\n",
       "        vertical-align: middle;\n",
       "    }\n",
       "\n",
       "    .dataframe tbody tr th {\n",
       "        vertical-align: top;\n",
       "    }\n",
       "\n",
       "    .dataframe thead th {\n",
       "        text-align: right;\n",
       "    }\n",
       "</style>\n",
       "<table border=\"1\" class=\"dataframe\">\n",
       "  <thead>\n",
       "    <tr style=\"text-align: right;\">\n",
       "      <th></th>\n",
       "      <th>regency_id</th>\n",
       "      <th>province_id</th>\n",
       "      <th>regency_desc</th>\n",
       "      <th>osm_id</th>\n",
       "    </tr>\n",
       "  </thead>\n",
       "  <tbody>\n",
       "    <tr>\n",
       "      <th>155</th>\n",
       "      <td>3171</td>\n",
       "      <td>31</td>\n",
       "      <td>KOTA JAKARTA SELATAN</td>\n",
       "      <td>5802438</td>\n",
       "    </tr>\n",
       "    <tr>\n",
       "      <th>156</th>\n",
       "      <td>3172</td>\n",
       "      <td>31</td>\n",
       "      <td>KOTA JAKARTA TIMUR</td>\n",
       "      <td>5802441</td>\n",
       "    </tr>\n",
       "    <tr>\n",
       "      <th>157</th>\n",
       "      <td>3173</td>\n",
       "      <td>31</td>\n",
       "      <td>KOTA JAKARTA PUSAT</td>\n",
       "      <td>7625977</td>\n",
       "    </tr>\n",
       "    <tr>\n",
       "      <th>158</th>\n",
       "      <td>3174</td>\n",
       "      <td>31</td>\n",
       "      <td>KOTA JAKARTA BARAT</td>\n",
       "      <td>7626001</td>\n",
       "    </tr>\n",
       "    <tr>\n",
       "      <th>159</th>\n",
       "      <td>3175</td>\n",
       "      <td>31</td>\n",
       "      <td>KOTA JAKARTA UTARA</td>\n",
       "      <td>7626002</td>\n",
       "    </tr>\n",
       "  </tbody>\n",
       "</table>\n",
       "</div>"
      ],
      "text/plain": [
       "     regency_id  province_id          regency_desc   osm_id\n",
       "155        3171           31  KOTA JAKARTA SELATAN  5802438\n",
       "156        3172           31    KOTA JAKARTA TIMUR  5802441\n",
       "157        3173           31    KOTA JAKARTA PUSAT  7625977\n",
       "158        3174           31    KOTA JAKARTA BARAT  7626001\n",
       "159        3175           31    KOTA JAKARTA UTARA  7626002"
      ]
     },
     "execution_count": 4,
     "metadata": {},
     "output_type": "execute_result"
    }
   ],
   "source": [
    "regencies.columns=['regency_id','province_id','regency_desc','osm_id']\n",
    "is_jakarta = regencies['regency_desc'].str.contains(\"JAKARTA\")\n",
    "reg_jakarta = regencies[is_jakarta]\n",
    "\n",
    "reg_jakarta['osm_id'] = reg_jakarta['osm_id'].astype(int)\n",
    "reg_jakarta = reg_jakarta[is_jakarta]\n",
    "reg_jakarta.head(5)"
   ]
  },
  {
   "cell_type": "code",
   "execution_count": 5,
   "metadata": {},
   "outputs": [],
   "source": [
    "def get_polygon_coordinate(regency_id):\n",
    "    # Extract Polygon Coordinate\n",
    "    url = 'http://polygons.openstreetmap.fr/get_poly.py?id='+regency_id+'&params=0'\n",
    "    req = urllib.request.Request(url, headers={'User-Agent' : \"Magic Browser\"})\n",
    "    response = urllib.request.urlopen( req )\n",
    "    output = response.read().decode(response.headers.get_content_charset())\n",
    "    html = response.read()\n",
    "    coordinate_raw = output.split(\"\\n\\t\")    \n",
    "    \n",
    "    # len(coordinate_raw)\n",
    "    coordinates = []\n",
    "    for coordinate in coordinate_raw:\n",
    "        line = coordinate.replace('\\t',',')\n",
    "        line = line.replace('\\nEND\\nEND\\n','')\n",
    "        splitted_line = line.split(',')\n",
    "        if 'polygon' not in line:\n",
    "            arr_line = []\n",
    "            for each in splitted_line:\n",
    "                each = float(each.rstrip())\n",
    "                arr_line.append(each)\n",
    "            coordinates.append(arr_line)\n",
    "    \n",
    "    return coordinates\n",
    "\n",
    "cor = get_polygon_coordinate('5802438')\n",
    "# print(cor)"
   ]
  },
  {
   "cell_type": "markdown",
   "metadata": {},
   "source": [
    "## Handle Regency"
   ]
  },
  {
   "cell_type": "code",
   "execution_count": 6,
   "metadata": {},
   "outputs": [],
   "source": [
    "features = []\n",
    "\n",
    "for index,row in reg_jakarta.iterrows():\n",
    "    feature = {}\n",
    "    feature['type'] = 'Feature'\n",
    "    feature['id'] = 'ID' + str(row['regency_id'])\n",
    "    prop = {}\n",
    "    prop['name'] = row['regency_desc'].replace('KOTA','')\n",
    "    feature['properties'] = prop\n",
    "    geometry = {}\n",
    "    geometry['type'] = 'Polygon'\n",
    "    coordinate = get_polygon_coordinate(str(row['osm_id']))\n",
    "    geometry['coordinates'] = [coordinate]\n",
    "    feature['geometry'] = geometry\n",
    "    features.append(feature)\n",
    "\n",
    "features_json = json.dumps(features)    \n",
    "# print(features_json)"
   ]
  },
  {
   "cell_type": "code",
   "execution_count": 7,
   "metadata": {},
   "outputs": [],
   "source": [
    "# Final\n",
    "# {\"type\":\"FeatureCollection\",\"features\":[features_json]}\n",
    "\n",
    "jakarta_regencies = {}\n",
    "jakarta_regencies['type'] = \"FeatureCollection\"\n",
    "jakarta_regencies['features'] = features\n",
    "jakarta_regencies_json = json.dumps(jakarta_regencies)\n",
    "\n",
    "# print(jakarta_regencies_json)\n",
    "#export json\n",
    "with open('JK_regencies.json', 'w') as outfile:\n",
    "    json.dump(jakarta_regencies, outfile)"
   ]
  },
  {
   "cell_type": "markdown",
   "metadata": {},
   "source": [
    "## Result\n",
    "\n",
    "output from code, e.g JK_regencies.json, will be used for folium to generate the map "
   ]
  },
  {
   "cell_type": "code",
   "execution_count": null,
   "metadata": {},
   "outputs": [],
   "source": []
  }
 ],
 "metadata": {
  "kernelspec": {
   "display_name": "Python 3",
   "language": "python",
   "name": "python3"
  },
  "language_info": {
   "codemirror_mode": {
    "name": "ipython",
    "version": 3
   },
   "file_extension": ".py",
   "mimetype": "text/x-python",
   "name": "python",
   "nbconvert_exporter": "python",
   "pygments_lexer": "ipython3",
   "version": "3.6.4"
  }
 },
 "nbformat": 4,
 "nbformat_minor": 2
}
